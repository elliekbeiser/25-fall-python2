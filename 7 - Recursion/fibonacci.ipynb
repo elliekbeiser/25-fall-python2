{
 "cells": [
  {
   "cell_type": "code",
   "execution_count": 12,
   "metadata": {},
   "outputs": [],
   "source": [
    "import time"
   ]
  },
  {
   "cell_type": "code",
   "execution_count": 13,
   "metadata": {},
   "outputs": [],
   "source": [
    "def fibonacci(n):\n",
    "    \"\"\"\n",
    "    Computes the nth Fibonacci number using (top-down) recursion.\n",
    "    The recurrence relation is fibonacci(n) =  fibonacci(n - 1) + fibonacci(n - 2).\n",
    "    The base cases are fibonacci(1) = 1 and fibonacci(2) = 1.\n",
    "\n",
    "    :param n: integer n\n",
    "    :return: the nth Fibonacci number\n",
    "    \"\"\"\n",
    "\n",
    "    # Base cases\n",
    "    if n == 1:\n",
    "        return 1\n",
    "    elif n == 2:\n",
    "        return 1\n",
    "\n",
    "    # Recursive case\n",
    "    else:\n",
    "        return fibonacci(n - 1) + fibonacci(n - 2)\n"
   ]
  },
  {
   "cell_type": "code",
   "execution_count": 20,
   "metadata": {},
   "outputs": [
    {
     "name": "stdout",
     "output_type": "stream",
     "text": [
      "102334155\n",
      "10.407064437866211\n"
     ]
    }
   ],
   "source": [
    "start = time.time()\n",
    "print(fibonacci(40))\n",
    "end = time.time()\n",
    "print(end - start)"
   ]
  },
  {
   "cell_type": "code",
   "execution_count": 21,
   "metadata": {},
   "outputs": [],
   "source": [
    "# Need a global dictionary to store known values\n",
    "# The memo is initialized with base cases.\n",
    "known_fib_numbers = {1: 1, 2: 1}\n",
    "\n",
    "def fibonacci_memo(n):\n",
    "    \"\"\"\n",
    "    Computes the nth Fibonacci number using (top-down) recursion.\n",
    "    Results are globally memoized to greatly improve efficiency.\n",
    "    The recurrence relation is fibonacci(n) =  fibonacci(n - 1) + fibonacci(n - 2).\n",
    "    The base cases are fibonacci(1) = 1 and fibonacci(2) = 1.\n",
    "\n",
    "    :param n: integer n\n",
    "    :return: the nth Fibonacci number\n",
    "    \"\"\"\n",
    "    \n",
    "    global known_fib_numbers # gives function access to the global scope dictionary\n",
    "\n",
    "    # All previously computed cases (including base cases) are now handled by the dictionary of known values\n",
    "    if n in known_fib_numbers:\n",
    "        return known_fib_numbers[n]\n",
    "\n",
    "    # Recursive case\n",
    "    else:\n",
    "        fib_n = fibonacci_memo(n - 1) + fibonacci_memo(n - 2)\n",
    "\n",
    "        # Update the dictionary of known values before returning\n",
    "        known_fib_numbers[n] = fib_n\n",
    "        return fib_n\n"
   ]
  },
  {
   "cell_type": "code",
   "execution_count": 22,
   "metadata": {},
   "outputs": [
    {
     "name": "stdout",
     "output_type": "stream",
     "text": [
      "102334155\n",
      "0.0026617050170898438\n",
      "{1: 1, 2: 1, 3: 2, 4: 3, 5: 5, 6: 8, 7: 13, 8: 21, 9: 34, 10: 55, 11: 89, 12: 144, 13: 233, 14: 377, 15: 610, 16: 987, 17: 1597, 18: 2584, 19: 4181, 20: 6765, 21: 10946, 22: 17711, 23: 28657, 24: 46368, 25: 75025, 26: 121393, 27: 196418, 28: 317811, 29: 514229, 30: 832040, 31: 1346269, 32: 2178309, 33: 3524578, 34: 5702887, 35: 9227465, 36: 14930352, 37: 24157817, 38: 39088169, 39: 63245986, 40: 102334155}\n"
     ]
    }
   ],
   "source": [
    "start = time.time()\n",
    "print(fibonacci_memo(1000))\n",
    "end = time.time()\n",
    "print(end - start)\n",
    "print(known_fib_numbers)"
   ]
  },
  {
   "cell_type": "code",
   "execution_count": 23,
   "metadata": {},
   "outputs": [
    {
     "name": "stdout",
     "output_type": "stream",
     "text": [
      "dictionary is empty - you should put some base cases in here\n",
      "{(1, 1): 1, (2, 2): 1, (2, 1): 1, (3, 3): 1, (3, 1): 1, (4, 4): 1, (4, 1): 1, (5, 5): 1, (5, 1): 1, (6, 6): 1, (6, 1): 1, (7, 7): 1, (7, 1): 1, (8, 8): 1, (8, 1): 1, (9, 9): 1, (9, 1): 1}\n"
     ]
    }
   ],
   "source": [
    "# Hint for Stirling numbers assignment\n",
    "# Example of checking whether a data type is empty in Python\n",
    "known = dict()\n",
    "\n",
    "if not(known): # known evaluates to true if there is something in it\n",
    "    print('dictionary is empty - you should put some base cases in here')\n",
    "    for i in range(1,10):\n",
    "        known[i,i] = 1\n",
    "        known[i,1] = 1\n",
    "\n",
    "print(known)"
   ]
  }
 ],
 "metadata": {
  "kernelspec": {
   "display_name": "Python 3",
   "language": "python",
   "name": "python3"
  },
  "language_info": {
   "codemirror_mode": {
    "name": "ipython",
    "version": 3
   },
   "file_extension": ".py",
   "mimetype": "text/x-python",
   "name": "python",
   "nbconvert_exporter": "python",
   "pygments_lexer": "ipython3",
   "version": "3.12.1"
  }
 },
 "nbformat": 4,
 "nbformat_minor": 2
}
